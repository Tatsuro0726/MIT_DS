{
 "nbformat": 4,
 "nbformat_minor": 2,
 "metadata": {
  "language_info": {
   "name": "python",
   "codemirror_mode": {
    "name": "ipython",
    "version": 3
   },
   "version": "3.7.6-final"
  },
  "orig_nbformat": 2,
  "file_extension": ".py",
  "mimetype": "text/x-python",
  "name": "python",
  "npconvert_exporter": "python",
  "pygments_lexer": "ipython3",
  "version": 3,
  "kernelspec": {
   "name": "python3",
   "display_name": "Python 3"
  }
 },
 "cells": [
  {
   "cell_type": "code",
   "execution_count": 2,
   "metadata": {},
   "outputs": [],
   "source": [
    "# Chapter12"
   ]
  },
  {
   "cell_type": "code",
   "execution_count": 3,
   "metadata": {},
   "outputs": [],
   "source": [
    "# 12.1.1 Greedy Algotithm(貪欲アルゴリズム)\n",
    "class Item(object):\n",
    "    def __init__(self,n,v,w):\n",
    "        self.name = n\n",
    "        self.value = v\n",
    "        self.weight = w\n",
    "    def getName(self):\n",
    "        return self.name\n",
    "    def getValue(self):\n",
    "        return self.value\n",
    "    def getWeight(self):\n",
    "        return self.weight\n",
    "    def __str__(self):\n",
    "        result = '<' + self.name + ', ' + str(self.value)\\\n",
    "                + ', ' + str(self.weight) + '>'\n",
    "        return result\n",
    "def value(item):\n",
    "    return item.getValue()\n",
    "def weightInverse(item):\n",
    "    return 1.0/item.getWeight()\n",
    "def density(item):\n",
    "    return item.getValue()/item.getWeight()"
   ]
  },
  {
   "cell_type": "code",
   "execution_count": 4,
   "metadata": {},
   "outputs": [],
   "source": [
    "def greedy(items, maxWeight, keyFunction):\n",
    "    \"\"\"itemsはリスト, maxWeight >= 0とし、\n",
    "       keyFunctionはitemsの要素を数にマップする\"\"\"\n",
    "    itemsCopy = sorted(items, key=keyFunction, reverse = True)\n",
    "    result = []\n",
    "    totalValue, totalWeight = 0.0, 0.0\n",
    "    for i in range(len(itemsCopy)):\n",
    "        if (totalWeight + itemsCopy[i].getWeight()) <= maxWeight:\n",
    "            result.append(itemsCopy[i])\n",
    "            totalWeight += itemsCopy[i].getWeight()\n",
    "            totalValue += itemsCopy[i].getValue()\n",
    "    return (result, totalValue)\n",
    "# keyFunctionの導入：リストの要素の順序付けから独立させた。→価値優先、重さ優先、密度(価値/重さ)優先\n",
    "# 関数に引き渡したlistを変化させないようにビルトインsorted()を使用。\n",
    "# リストの中身がkeyFunctionに関して大きい順に並んでほしいことを指示するためreverseパラメータを使用"
   ]
  },
  {
   "cell_type": "code",
   "execution_count": 5,
   "metadata": {},
   "outputs": [],
   "source": [
    "# Greedy Algorithmテスト\n",
    "# 12.3\n",
    "# Item作成関数\n",
    "def buildItems():\n",
    "    names = ['clock','painting','radio','vase','book','computer']\n",
    "    values = [175,90,20,50,10,200]\n",
    "    weight = [10,9,4,2,1,20]\n",
    "    Items = []\n",
    "    for i in range(len(values)):\n",
    "        Items.append(Item(names[i],values[i],weight[i]))\n",
    "    return Items\n",
    "# テスト\n",
    "def testGreedy(items, maxWeight,keyFunction):\n",
    "    taken, val = greedy(items, maxWeight, keyFunction) # 持っていくItem、価値　を取得\n",
    "    print('Total value of items taken is', val) # 上記で得た結果を表示\n",
    "    for item in taken:\n",
    "        print(' ', item)\n",
    "\n",
    "def testGreedys(maxWeight=20):\n",
    "    items = buildItems() # Item生成\n",
    "    print('Use greedy by value to fill knapsack of size', maxWeight)\n",
    "    testGreedy(items,maxWeight, value)\n",
    "    print('\\nUse greedy by weight to fill knapsack of size', maxWeight)\n",
    "    testGreedy(items, maxWeight, weightInverse)\n",
    "    print('\\nUse greedy by density to fill knapsack of size', maxWeight)\n",
    "    testGreedy(items, maxWeight, density)"
   ]
  },
  {
   "cell_type": "code",
   "execution_count": 6,
   "metadata": {},
   "outputs": [
    {
     "output_type": "stream",
     "name": "stdout",
     "text": "Use greedy by value to fill knapsack of size 20\nTotal value of items taken is 200.0\n  <computer, 200, 20>\n\nUse greedy by weight to fill knapsack of size 20\nTotal value of items taken is 170.0\n  <book, 10, 1>\n  <vase, 50, 2>\n  <radio, 20, 4>\n  <painting, 90, 9>\n\nUse greedy by density to fill knapsack of size 20\nTotal value of items taken is 255.0\n  <vase, 50, 2>\n  <clock, 175, 10>\n  <book, 10, 1>\n  <radio, 20, 4>\n"
    }
   ],
   "source": [
    "testGreedys()"
   ]
  },
  {
   "cell_type": "code",
   "execution_count": 7,
   "metadata": {},
   "outputs": [],
   "source": [
    "#12.1.2 0/1ナップサック問題の最適解\n",
    "# 9.6\n",
    "def getBinaryRep(n,numDigits):\n",
    "    \"\"\"nとnumDigitsを非負のint型とする\n",
    "       nの値を、numDigits桁の2進数で表す文字列を返す\"\"\"\n",
    "    result = ''\n",
    "    while n > 0:\n",
    "        result = str(n%2) + result\n",
    "        n = n//2\n",
    "    if len(result) > numDigits:\n",
    "        raise ValueError('not enough digits')\n",
    "    for i in range(numDigits - len(result)):\n",
    "        result = '0' + result\n",
    "    return result\n",
    "\n",
    "def genPowerset(L):\n",
    "    \"\"\"Lをリストとする\n",
    "       Lの要素の、すべての可能な組み合わせからなるリストを返す\n",
    "       例えばLが[1,2]ならば、\n",
    "       [],[1],[2],[1,2]を要素に持つリストを返す\"\"\"\n",
    "    powerset = []\n",
    "    for i in range(0,2**len(L)):\n",
    "        binStr = getBinaryRep(i, len(L))\n",
    "        subset = []\n",
    "        for j in range(len(L)):\n",
    "            if binStr[j] == '1':\n",
    "                subset.append(L[j])\n",
    "        powerset.append(subset)\n",
    "    return powerset"
   ]
  },
  {
   "cell_type": "code",
   "execution_count": 11,
   "metadata": {},
   "outputs": [],
   "source": [
    "# 0/1 ナップサック問題に対する力ずく法\n",
    "def chooseBest(pset, maxWeight, getVal, getWeight):\n",
    "    bestVal = 0.0\n",
    "    bestSet = None\n",
    "    for items in pset:\n",
    "        itemsVal = 0.0\n",
    "        itemsWeight = 0.0\n",
    "        for item in items:\n",
    "            itemsVal += getVal(item)\n",
    "            itemsWeight += getWeight(item)\n",
    "        if itemsWeight <= maxWeight and itemsVal > bestVal:\n",
    "            bestVal = itemsVal\n",
    "            bestSet = items\n",
    "    return (bestSet,bestVal)\n",
    "\n",
    "def testBest(maxWeight=20):\n",
    "    items = buildItems()\n",
    "    pset = genPowerset(items)\n",
    "    taken,val = chooseBest(pset,maxWeight,Item.getValue,Item.getWeight)\n",
    "    print('Total value of items taken is',val)\n",
    "    for item in taken:\n",
    "        print(item)"
   ]
  },
  {
   "cell_type": "code",
   "execution_count": 12,
   "metadata": {},
   "outputs": [
    {
     "output_type": "stream",
     "name": "stdout",
     "text": "Total value of items taken is 275.0\n<clock, 175, 10>\n<painting, 90, 9>\n<book, 10, 1>\n"
    }
   ],
   "source": [
    "testBest()"
   ]
  },
  {
   "cell_type": "code",
   "execution_count": null,
   "metadata": {},
   "outputs": [],
   "source": [
    "# 12.2 グラフ最適化問題\n"
   ]
  }
 ]
}