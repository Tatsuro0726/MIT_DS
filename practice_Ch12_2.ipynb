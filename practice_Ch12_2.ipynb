{
 "cells": [
  {
   "cell_type": "code",
   "execution_count": 1,
   "metadata": {},
   "outputs": [],
   "source": [
    "#12.2 グラフ最適化問題\n",
    "# ノードと枝\n",
    "class Node(object):\n",
    "    def __init__(self,name):\n",
    "        \"\"\"nameは文字列とする\"\"\"\n",
    "        self.name = name\n",
    "    def getName(self):\n",
    "        return self.name\n",
    "    def __str__(self):\n",
    "        return self.name\n",
    "\n",
    "class Edge(object):\n",
    "    def __init__(self, src, dest):\n",
    "        \"\"\"src, destは、どちらもNodeオブジェクトとする\"\"\"\n",
    "        self.src = src\n",
    "        self.dest = dest\n",
    "    def getSource(self):\n",
    "        return self.src\n",
    "    def getDestination(self):\n",
    "        return self.dest\n",
    "    def __str__(self):\n",
    "        return self.src.getName() + '->' + self.dest.getName()\n",
    "\n",
    "class WeightedEdge(Edge):\n",
    "    def __init__(self,src,dest,wight = 1.0):\n",
    "        \"\"\"src,destはNodeオブジェクトであるとし、Weightは数とする\"\"\"\n",
    "        self.src = src\n",
    "        self.dest = dest\n",
    "        self.weight = wight\n",
    "    def getWeight(self):\n",
    "        return self.weight\n",
    "    def __str__(self):\n",
    "        return self.src.getName() + '->(' + str(self.weight) + ')' + self.dest.getName()"
   ]
  },
  {
   "cell_type": "code",
   "execution_count": 2,
   "metadata": {},
   "outputs": [],
   "source": [
    "#DigraphとGraphクラス\n",
    "class Digraph(object):\n",
    "    #nodesはNodeオブジェクトのリストであるobject\n",
    "    #edgesは各nodeを、そのnodeの子ノードのリストにマップする辞書である\n",
    "    def __init__(self):\n",
    "        self.nodes = []\n",
    "        self.edges = {}\n",
    "    def addNode(self,node):\n",
    "        if node in self.nodes:\n",
    "            raise ValueError('Duplicate node')\n",
    "        else:\n",
    "            self.nodes.append(node)\n",
    "            self.edges[node]=[]\n",
    "    def addEdge(self, edge):\n",
    "        src = edge.getSource()\n",
    "        dest = edge.getDestination()\n",
    "        if not (src in self.nodes and dest in self.nodes):\n",
    "            raise ValueError('Node not in graph')\n",
    "        self.edges[src].append(dest)\n",
    "    def childrenOf(self, node):\n",
    "        return self.edges[node]\n",
    "    def hasNode(self, node):\n",
    "        return node in self.nodes\n",
    "    def __str__(self):\n",
    "        result = ''\n",
    "        for src in self.nodes:\n",
    "            for dest in self.edges[src]:\n",
    "                result = result + src.getName() + '->' + dest.getName() + '\\n'\n",
    "        return result[:-1] #最後の改行を省略\n",
    "\n",
    "class Graph(Digraph):\n",
    "    def addEdge(sefl,edge):\n",
    "        Digraph.addEdge(self,edge)\n",
    "        rev = Edge(edge.getDestination(), edge.getSource())\n",
    "        Digraph.addEdge(self,rev)"
   ]
  },
  {
   "cell_type": "code",
   "execution_count": 8,
   "metadata": {},
   "outputs": [],
   "source": [
    "def printPath(path):\n",
    "    \"\"\"pathは、Nodeオブジェクトからなるリストとする\"\"\"\n",
    "    result = ''\n",
    "    for i in range(len(path)):\n",
    "        result = result + str(path[i])\n",
    "        if i != len(path) - 1:\n",
    "            result = result + '->'\n",
    "    return result\n",
    "\n",
    "def DFS(graph, start, end, path, shortest, toPrint=False):\n",
    "    \"\"\"graphはDigraphオブジェクト、startとendはNodeオブジェクト,\n",
    "      pathとshortestは、Nodeオブジェクトリストとする。_\n",
    "      graphでの、startノードからendノードへの最短路を返す\"\"\"\n",
    "    path = path + [start]\n",
    "    if toPrint:\n",
    "        print('Current DFS path:', printPath(path))\n",
    "    if start == end:\n",
    "        return path\n",
    "    for node in graph.childrenOf(start):\n",
    "        if node not in path: # サイクルを避ける\n",
    "            if shortest == None or len(path) < len(shortest):\n",
    "                newPath = DFS(graph,node, end, path, shortest, toPrint)\n",
    "                if newPath != None:\n",
    "                    shortest = newPath\n",
    "    return shortest\n",
    "\n",
    "def shortestPath(graph, start, end, toPrint = False):\n",
    "    \"\"\"graphはDigraphオブジェクト、startとendはNoneオブジェクトとする。\n",
    "       graphでの、startノードからendノードへの最短経路を返す\"\"\"\n",
    "    return DFS(graph, start, end, [], None, toPrint)\n",
    ""
   ]
  },
  {
   "cell_type": "code",
   "execution_count": 36,
   "metadata": {},
   "outputs": [],
   "source": [
    "def testSP():\n",
    "    nodes=[]\n",
    "    for name in range(6): # 6つのノードを生成する\n",
    "        nodes.append(Node(str(name)))\n",
    "    g = Digraph()\n",
    "    for n in nodes:\n",
    "        g.addNode(n)\n",
    "    g.addEdge(Edge(nodes[0],nodes[1]))\n",
    "    g.addEdge(Edge(nodes[1],nodes[2]))\n",
    "    g.addEdge(Edge(nodes[2],nodes[3]))\n",
    "    g.addEdge(Edge(nodes[2],nodes[4]))\n",
    "    g.addEdge(Edge(nodes[3],nodes[4]))\n",
    "    g.addEdge(Edge(nodes[3],nodes[5]))\n",
    "    g.addEdge(Edge(nodes[0],nodes[2]))\n",
    "    g.addEdge(Edge(nodes[1],nodes[0]))\n",
    "    g.addEdge(Edge(nodes[3],nodes[1]))\n",
    "    g.addEdge(Edge(nodes[4],nodes[0]))\n",
    "    sp = shortestPath(g,nodes[0],nodes[5],toPrint=True)\n",
    "    print('Shortest path found by DFS:', printPath(sp))"
   ]
  },
  {
   "cell_type": "code",
   "execution_count": 38,
   "metadata": {},
   "outputs": [
    {
     "output_type": "stream",
     "name": "stdout",
     "text": "Current DFS path: 0\nCurrent DFS path: 0->1\nCurrent DFS path: 0->1->2\nCurrent DFS path: 0->1->2->3\nCurrent DFS path: 0->1->2->3->4\nCurrent DFS path: 0->1->2->3->5\nCurrent DFS path: 0->1->2->4\nCurrent DFS path: 0->2\nCurrent DFS path: 0->2->3\nCurrent DFS path: 0->2->3->4\nCurrent DFS path: 0->2->3->5\nCurrent DFS path: 0->2->3->1\nCurrent DFS path: 0->2->4\nShortest path found by DFS: 0->2->3->5\n"
    }
   ],
   "source": [
    "testSP()"
   ]
  },
  {
   "cell_type": "code",
   "execution_count": 39,
   "metadata": {},
   "outputs": [],
   "source": [
    "# 12.9\n",
    "def BFS(graph, start, end, toPrint=False):\n",
    "    \"\"\"graphはDigraphオブジェクト, startとendはNodeオブジェクトとする。\n",
    "       graphでの、startノードからendノードへの最短経路を返す\"\"\"\n",
    "    initPath = [start]\n",
    "    pathQueue = [initPath]\n",
    "    while len(pathQueue) != 0:\n",
    "        # pathQuequeの中で１番古い要素を参照し、それを取り除く\n",
    "        tmpPath = pathQueue.pop(0)\n",
    "        if toPrint:\n",
    "            print('Current BFS path:', printPath(tmpPath))\n",
    "        lastNode = tmpPath[-1]\n",
    "        if lastNode == end:\n",
    "            return tmpPath\n",
    "        for nextNode in graph.childrenOf(lastNode):\n",
    "            if nextNode not in tmpPath:\n",
    "                newPath = tmpPath + [nextNode]\n",
    "                pathQueue.append(newPath)\n",
    "    return None"
   ]
  },
  {
   "cell_type": "code",
   "execution_count": 41,
   "metadata": {},
   "outputs": [
    {
     "output_type": "stream",
     "name": "stdout",
     "text": "Current BFS path: 0\nCurrent BFS path: 0->1\nCurrent BFS path: 0->2\nCurrent BFS path: 0->1->2\nCurrent BFS path: 0->2->3\nCurrent BFS path: 0->2->4\nCurrent BFS path: 0->1->2->3\nCurrent BFS path: 0->1->2->4\nCurrent BFS path: 0->2->3->4\nCurrent BFS path: 0->2->3->5\nShortest path found by BFS: 0->2->3->5\n"
    }
   ],
   "source": [
    "sp = BFS(g,nodes[0],nodes[5],toPrint=True)\n",
    "print('Shortest path found by BFS:', printPath(sp))"
   ]
  },
  {
   "cell_type": "code",
   "execution_count": null,
   "metadata": {},
   "outputs": [],
   "source": []
  }
 ],
 "metadata": {
  "file_extension": ".py",
  "kernelspec": {
   "display_name": "Python 3",
   "language": "python",
   "name": "python3"
  },
  "language_info": {
   "codemirror_mode": {
    "name": "ipython",
    "version": 3
   },
   "file_extension": ".py",
   "mimetype": "text/x-python",
   "name": "python",
   "nbconvert_exporter": "python",
   "pygments_lexer": "ipython3",
   "version": "3.7.6-final"
  },
  "mimetype": "text/x-python",
  "name": "python",
  "npconvert_exporter": "python",
  "pygments_lexer": "ipython3",
  "version": 3
 },
 "nbformat": 4,
 "nbformat_minor": 4
}