{
 "nbformat": 4,
 "nbformat_minor": 2,
 "metadata": {
  "language_info": {
   "name": "python",
   "codemirror_mode": {
    "name": "ipython",
    "version": 3
   },
   "version": "3.7.6-final"
  },
  "orig_nbformat": 2,
  "file_extension": ".py",
  "mimetype": "text/x-python",
  "name": "python",
  "npconvert_exporter": "python",
  "pygments_lexer": "ipython3",
  "version": 3,
  "kernelspec": {
   "name": "python3",
   "display_name": "Python 3"
  }
 },
 "cells": [
  {
   "cell_type": "code",
   "execution_count": 1,
   "metadata": {},
   "outputs": [],
   "source": [
    "# フィボナッチ数列\n",
    "def fastFib(n, memo={}):    # momoは辞書型\n",
    "    \"\"\"nを0以上の整数とする。memoは再帰呼出しによってのみ使用される。\n",
    "       n番目のフィボナッチ数を返す\"\"\"\n",
    "    if n==0 or n==1:\n",
    "        return 1\n",
    "    try:\n",
    "        return memo[n]\n",
    "    except KeyError:\n",
    "        result = fastFib(n-1,memo) + fastFib(n-2,memo)\n",
    "        memo[n] = result\n",
    "        return result"
   ]
  },
  {
   "cell_type": "code",
   "execution_count": 2,
   "metadata": {},
   "outputs": [
    {
     "output_type": "stream",
     "name": "stdout",
     "text": "8670007398507948658051921\n"
    }
   ],
   "source": [
    "print(fastFib(120))"
   ]
  },
  {
   "cell_type": "code",
   "execution_count": 3,
   "metadata": {},
   "outputs": [],
   "source": [
    "# Chapter12で使用\n",
    "class Item(object):\n",
    "    def __init__(self, n, v, w):\n",
    "        self.name = n\n",
    "        self.value = v\n",
    "        self.weight = w\n",
    "    def getName(self):\n",
    "        return self.name\n",
    "    def getValue(self):\n",
    "        return self.value\n",
    "    def getWeight(self):\n",
    "        return self.weight\n",
    "    def __str__(self):\n",
    "        result = '<' + self.name + ', ' + str(self.value)\\\n",
    "                + ', ' + str(self.weight) + '>'\n",
    "        return result\n",
    "def value(item):\n",
    "    return item.getValue()\n",
    "\n",
    "def weightInverse(item):\n",
    "    return 1.0/item.getWeight()\n",
    "\n",
    "def density(item):\n",
    "    return item.getValue()/item.getWeight()"
   ]
  },
  {
   "cell_type": "code",
   "execution_count": 21,
   "metadata": {},
   "outputs": [],
   "source": [
    "# 13.3\n",
    "def maxVal(toConsider, avail):\n",
    "    \"\"\"toConsiderを品物のリスト、availを重さとする\n",
    "       それらをパラメータとする0/1ナップサック問題の解である\n",
    "       総価値と品物のリストからなるタプルを返す\"\"\"\n",
    "    if toConsider==[] or avail==0:\n",
    "        return (0,())\n",
    "    elif toConsider[0].getWeight() > avail:\n",
    "        # 右側の分岐のみ探索する\n",
    "        result = maxVal(toConsider[1:], avail)\n",
    "    else:\n",
    "        nextItem = toConsider[0]\n",
    "        # 左側の分岐を探索する(リストの先頭を採用した場合)\n",
    "        withVal, withToTake = maxVal(toConsider[1:],avail - nextItem.getWeight())\n",
    "        withVal += nextItem.getValue()\n",
    "        #右側の分岐を探索する\n",
    "        withoutVal, withoutToTake = maxVal(toConsider[1:], avail)\n",
    "        #よりよい分岐を選択\n",
    "        if withVal > withoutVal:\n",
    "            result = (withVal, withToTake + (nextItem,))\n",
    "        else:\n",
    "            result = (withoutVal, withoutToTake)\n",
    "    return result"
   ]
  },
  {
   "cell_type": "code",
   "execution_count": 25,
   "metadata": {},
   "outputs": [],
   "source": [
    "# 13.4 テストコード\n",
    "import random\n",
    "def samllTest():\n",
    "    names = ['a','b','c','d']\n",
    "    vals = [6,7,8,9]\n",
    "    weights = [3,3,2,5]\n",
    "    Items = []\n",
    "    for i in range(len(vals)):\n",
    "        Items.append(Item(names[i],vals[i],weights[i]))\n",
    "    val, taken = maxVal(Items, 5)\n",
    "    for item in taken:\n",
    "        print(item)\n",
    "    print('Total value of items taken=', val)\n",
    "\n",
    "def buildManyItems(numItems, maxVal, maxWeight):\n",
    "    items = []\n",
    "    for i in range(numItems):\n",
    "        items.append(Item(str(i),random.randint(1, maxVal),random.randint(1,maxWeight)))\n",
    "    return items\n",
    "\n",
    "def bigTest(numItems):\n",
    "    items = buildManyItems(numItems, 10,10)\n",
    "    val, taken = fastMaxVal(items, 1000)\n",
    "    print('Items Taken')\n",
    "    for item in taken:\n",
    "        print(item)\n",
    "    print('Total value of items taken =', val)"
   ]
  },
  {
   "cell_type": "code",
   "execution_count": 26,
   "metadata": {},
   "outputs": [
    {
     "output_type": "stream",
     "name": "stdout",
     "text": "<c, 8, 2>\n<b, 7, 3>\nTotal value of items taken= 15\n"
    }
   ],
   "source": [
    "samllTest()"
   ]
  },
  {
   "cell_type": "code",
   "execution_count": 30,
   "metadata": {},
   "outputs": [
    {
     "output_type": "stream",
     "name": "stdout",
     "text": "Items Taken\n<9, 10, 6>\n<8, 5, 7>\n<7, 7, 6>\n<6, 5, 7>\n<4, 5, 4>\n<1, 9, 10>\nTotal value of items taken = 41\n"
    }
   ],
   "source": [
    "bigTest(10)"
   ]
  },
  {
   "cell_type": "code",
   "execution_count": 31,
   "metadata": {},
   "outputs": [],
   "source": [
    "def fastMaxVal(toConsider, avail, memo={}):\n",
    "    \"\"\"toConsiderを品物のリスト, availを重さ、\n",
    "       memoを再帰呼び出しによってのみ使われる。\n",
    "       それらをパラメータとする0/1ナップサック問題の解である\n",
    "       総価値と品物のリストからなるタプルを返す\"\"\"\n",
    "    if (len(toConsider), avail) in memo:\n",
    "        result = memo[(len(toConsider),avail)]\n",
    "    elif toConsider == [] or avail == 0:\n",
    "        result = (0,())\n",
    "    elif toConsider[0].getWeight() > avail:\n",
    "        # 右側の分岐のみを探索する\n",
    "        result = fastMaxVal(toConsider[1:],avail, memo)\n",
    "    else:\n",
    "        nextItem = toConsider[0]\n",
    "        # 左側の分岐を探索する\n",
    "        withVal, withToTake = fastMaxVal(toConsider[1:], avail - nextItem.getWeight(),memo)\n",
    "        withVal += nextItem.getValue()\n",
    "        # 右側の分岐を探索する\n",
    "        withoutVal, withoutToTake = fastMaxVal(toConsider[1:], avail, memo)\n",
    "        # よりよい分岐を選択\n",
    "        if withVal > withoutVal:\n",
    "            result = (withVal, withoutToTake + (nextItem,))\n",
    "        else:\n",
    "            result = (withoutVal, withoutToTake)\n",
    "    memo[(len(toConsider),avail)] = result\n",
    "    return result  \n",
    ""
   ]
  },
  {
   "cell_type": "code",
   "execution_count": null,
   "metadata": {},
   "outputs": [],
   "source": []
  },
  {
   "cell_type": "code",
   "execution_count": null,
   "metadata": {},
   "outputs": [],
   "source": []
  }
 ]
}