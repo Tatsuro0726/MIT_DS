{
 "cells": [
  {
   "cell_type": "code",
   "execution_count": 2,
   "metadata": {},
   "outputs": [],
   "source": [
    "# Chapter16:Monte Carlo simulation\n",
    "import random"
   ]
  },
  {
   "cell_type": "code",
   "execution_count": 4,
   "metadata": {},
   "outputs": [],
   "source": [
    "# 16.1\n",
    "# サイコロを投げた場合\n",
    "def rollDie():\n",
    "    return random.choice([1,2,3,4,5,6])\n",
    "\n",
    "def checkPascal(numTrials):\n",
    "    \"\"\"numTrials: 試行回数 正の整数\n",
    "       勝利する確率の評価値を表示する。\"\"\"\n",
    "    numWins = 0\n",
    "    for i in range(numTrials): # 試行回数分のループ\n",
    "        for j in range(24): # 24回サイコロを振る\n",
    "            d1 = rollDie() # 1つ目のサイコロを投げる\n",
    "            d2 = rollDie() # 2つ目のサイコロを投げる\n",
    "            if d1 == 6 and d2 == 6: # 両方で6が出た場合\n",
    "                numWins += 1\n",
    "                break # 24回投げる間にそろえば終了\n",
    "    print(\"Probability of winning =\", numWins/numTrials)"
   ]
  },
  {
   "cell_type": "code",
   "execution_count": 5,
   "metadata": {},
   "outputs": [
    {
     "output_type": "stream",
     "name": "stdout",
     "text": "Probability of winning = 0.490297\n"
    }
   ],
   "source": [
    "checkPascal(1000000)"
   ]
  },
  {
   "cell_type": "code",
   "execution_count": 7,
   "metadata": {},
   "outputs": [
    {
     "output_type": "stream",
     "name": "stdout",
     "text": "1-(35/36)^24 =  0.4914038761309034\n"
    }
   ],
   "source": [
    "print('1-(35/36)^24 = ', 1-(35/36)**24)"
   ]
  },
  {
   "cell_type": "code",
   "execution_count": 8,
   "metadata": {},
   "outputs": [],
   "source": [
    "# 16.2 CrapsGameクラス\n",
    "class CrapsGame(object):\n",
    "    def __init__(self):\n",
    "        self.passWins, self.passLosses = 0,0 # 初期化\n",
    "        self.dpWins, self.dpLosses, self.dpPushes = 0,0,0 # 初期化\n",
    "    \n",
    "    def playHand(self):\n",
    "        throw = rollDie() + rollDie() # 2つのサイコロの目を足す\n",
    "        if throw == 7 or throw == 11:\n",
    "            self.passWins += 1 # パスラインの場合勝利\n",
    "            self.dpLosses += 1 # どんとパスの場合負け\n",
    "        elif throw == 2 or throw == 3 or throw == 12:\n",
    "            self.passLosses += 1\n",
    "            if throw == 12:\n",
    "                self.dpPushes += 1\n",
    "            else:\n",
    "                self.dpWins += 1\n",
    "        else:\n",
    "            point = throw\n",
    "            while True:\n",
    "                throw = rollDie() + rollDie()\n",
    "                if throw == point:\n",
    "                    self.passWins += 1\n",
    "                    self.dpLosses += 1\n",
    "                    break\n",
    "                elif throw == 7:\n",
    "                    self.passLosses += 1\n",
    "                    self.dpWins += 1\n",
    "                    break\n",
    "    def passResults(self):\n",
    "        return (self.passWins, self.passLosses)\n",
    "    \n",
    "    def dpResults(self):\n",
    "        return (self.dpWins, self.dpLosses, self.dpPushes)"
   ]
  },
  {
   "cell_type": "code",
   "execution_count": 9,
   "metadata": {},
   "outputs": [],
   "source": [
    "def variance(X):\n",
    "    \"\"\"Xを数のリストとする。\n",
    "       Xの分散を返す\"\"\"\n",
    "    mean = sum(X)/len(X)\n",
    "    tot = 0.0\n",
    "    for x in X:\n",
    "        tot += (x-mean)**2\n",
    "    return tot/len(X)\n",
    "\n",
    "def stdDev(X):\n",
    "    \"\"\"を数のリストとする。\n",
    "       Xの標準偏差を返す。\"\"\"\n",
    "    return variance(X)**0.5"
   ]
  },
  {
   "cell_type": "code",
   "execution_count": 13,
   "metadata": {},
   "outputs": [],
   "source": [
    "def crapsSim(handsPerGame, numGames):\n",
    "    \"\"\"handsPerGame: 1ゲーム当たりの手 1以上の正の整数\n",
    "       handsPerGameの手からなるゲームをnumGames回プレイし、\n",
    "       その結果を表示する。\"\"\"\n",
    "    games = []\n",
    "\n",
    "    # ゲームをnumGames回プレイする\n",
    "    for t in range(numGames):\n",
    "        c = CrapsGame()                 # インスタンス生成\n",
    "        for i in range(handsPerGame):   # 1ゲーム当たり何回か手が行われる\n",
    "            c.playHand()                # ゲーム結果を取得\n",
    "        games.append(c)                 # ゲームのインスタンスをリストに格納\n",
    "\n",
    "    # 各ゲームの統計値を求める\n",
    "    pROIPerGame, dpROIPerGame = [],[] # p:パス, dp:ドントパス\n",
    "    for g in games:\n",
    "        wins, losses = g.passResults()\n",
    "        pROIPerGame.append((wins - losses)/float(handsPerGame)) # 投資収益率(Return On Investment)\n",
    "        wins, losses, pushes = g.dpResults()\n",
    "        dpROIPerGame.append((wins - losses)/float(handsPerGame))\n",
    "    \n",
    "    # 統計値の概要を求めて表示する\n",
    "    meanROI = str(round((100*sum(pROIPerGame)/numGames),4)) + '%'\n",
    "    sigma = str(round(100*stdDev(pROIPerGame),4)) + '%'\n",
    "    print('Pass:', 'Mean ROI =', meanROI,'Std Dev. =',sigma)\n",
    "    meanROI = str(round((100*sum(dpROIPerGame)/numGames),4)) + '%'\n",
    "    sigma = str(round(100*stdDev(dpROIPerGame),4)) + '%'\n",
    "    print('Don\\'t pass:', 'Mean ROI =', meanROI,'Std Dev. =',sigma)"
   ]
  },
  {
   "cell_type": "code",
   "execution_count": 14,
   "metadata": {},
   "outputs": [
    {
     "output_type": "stream",
     "name": "stdout",
     "text": "Pass: Mean ROI = 5.0% Std Dev. = 20.6155%\nDon't pass: Mean ROI = -9.0% Std Dev. = 19.8494%\n"
    }
   ],
   "source": [
    "crapsSim(20,10)"
   ]
  },
  {
   "cell_type": "code",
   "execution_count": 15,
   "metadata": {},
   "outputs": [
    {
     "output_type": "stream",
     "name": "stdout",
     "text": "-36.231 46.231\n"
    }
   ],
   "source": [
    "# 標準偏差から95%信頼区間を求めてみる\n",
    "print(5.0 - 2*20.6155, 5.0 + 2*20.6155)"
   ]
  },
  {
   "cell_type": "code",
   "execution_count": 16,
   "metadata": {},
   "outputs": [
    {
     "output_type": "stream",
     "name": "stdout",
     "text": "Pass: Mean ROI = -1.4125% Std Dev. = 0.104%\nDon't pass: Mean ROI = -1.3689% Std Dev. = 0.1124%\n"
    }
   ],
   "source": [
    "crapsSim(1000000,10)"
   ]
  },
  {
   "cell_type": "code",
   "execution_count": 17,
   "metadata": {},
   "outputs": [
    {
     "output_type": "stream",
     "name": "stdout",
     "text": "Pass: Mean ROI = -1.3419% Std Dev. = 22.4008%\nDon't pass: Mean ROI = -1.4334% Std Dev. = 22.0895%\n"
    }
   ],
   "source": [
    "crapsSim(20,100000)"
   ]
  },
  {
   "cell_type": "markdown",
   "metadata": {},
   "source": [
    "### memo\n",
    "- 標準偏差が大きい。20手のゲームを1回プレイした時の結果はとても不確実性が大きいことを示している。"
   ]
  },
  {
   "cell_type": "code",
   "execution_count": null,
   "metadata": {},
   "outputs": [],
   "source": [
    "# 16.3 性能を上げるために参照表を使う"
   ]
  }
 ],
 "metadata": {
  "language_info": {
   "codemirror_mode": {
    "name": "ipython",
    "version": 3
   },
   "file_extension": ".py",
   "mimetype": "text/x-python",
   "name": "python",
   "nbconvert_exporter": "python",
   "pygments_lexer": "ipython3",
   "version": "3.7.4-final"
  },
  "orig_nbformat": 2,
  "kernelspec": {
   "name": "python37464bitbasecondaa456a6740d7e490db9ca4374186e9e5a",
   "display_name": "Python 3.7.4 64-bit ('base': conda)"
  }
 },
 "nbformat": 4,
 "nbformat_minor": 2
}