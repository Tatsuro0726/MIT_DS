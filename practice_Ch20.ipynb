{
 "cells": [
  {
   "cell_type": "code",
   "execution_count": null,
   "metadata": {},
   "outputs": [],
   "source": [
    "# Chapter20: 条件付き確率とベイズ統計\n",
    "# Chapter19までは、頻度主義の立場。(結果を得るのに標本データから導かれる頻度や比率を用いる)"
   ]
  },
  {
   "cell_type": "code",
   "execution_count": 7,
   "metadata": {},
   "outputs": [
    {
     "output_type": "stream",
     "name": "stdout",
     "text": "タイプAである確率 = 0.3925\nタイプAである確率 = 0.4622\n"
    }
   ],
   "source": [
    "# 20.1 ベイズ更新\n",
    "def calcBayes(priorA, probBifA,probB):\n",
    "    \"\"\"priorA: 事象Aの事前確率\n",
    "       probBifA: Aが与えられた条件付きのBの確率\n",
    "       probB: 事象Bの確率\"\"\"\n",
    "    return priorA*probBifA/probB\n",
    "\n",
    "priorA = 1/3 # タイプAのサイコロである確率\n",
    "prob6ifA = 1/5 # タイプAのサイコロで6が出る確率\n",
    "prob6 = (1/5+1/6+1/7)/3 # 6が出る確率\n",
    "\n",
    "#2回とも共に6が出た場合\n",
    "postA = calcBayes(priorA,prob6ifA,prob6)\n",
    "print('タイプAである確率 =', round(postA,4))\n",
    "postA = calcBayes(postA,prob6ifA,prob6)\n",
    "print('タイプAである確率 =', round(postA,4))"
   ]
  },
  {
   "cell_type": "code",
   "execution_count": 10,
   "metadata": {},
   "outputs": [
    {
     "output_type": "stream",
     "name": "stdout",
     "text": "タイプAである確率 = 0.3212\nタイプAである確率 = 0.3096\n"
    }
   ],
   "source": [
    "# 2回振ったサイコロの目が共に6ではない場合\n",
    "postA = calcBayes(priorA,1-prob6ifA,1-prob6)\n",
    "print('タイプAである確率 =', round(postA,4))\n",
    "postA = calcBayes(postA,1-prob6ifA, 1-prob6)\n",
    "print('タイプAである確率 =', round(postA,4))"
   ]
  },
  {
   "cell_type": "code",
   "execution_count": 12,
   "metadata": {},
   "outputs": [
    {
     "output_type": "stream",
     "name": "stdout",
     "text": "タイプAである確率 = 0.8673\nタイプAである確率 = 0.8358\n"
    }
   ],
   "source": [
    "# 事前に袋の中のサイコロが90%の確率でタイプAだという何らかの情報があった場合\n",
    "priorA = 0.9 # タイプAのサイコロである確率\n",
    "prob6ifA = 1/5 # タイプAのサイコロで6が出る確率\n",
    "prob6 = (1/5+1/6+1/7)/3 # 6が出る確率\n",
    "\n",
    "#2回とも共に6が出た場合\n",
    "postA = calcBayes(priorA,1-prob6ifA,1-prob6)\n",
    "print('タイプAである確率 =', round(postA,4))\n",
    "postA = calcBayes(postA,1-prob6ifA, 1-prob6)\n",
    "print('タイプAである確率 =', round(postA,4))"
   ]
  },
  {
   "cell_type": "code",
   "execution_count": 14,
   "metadata": {},
   "outputs": [
    {
     "output_type": "stream",
     "name": "stdout",
     "text": "0 回振った時点でタイプAである確率= 0.9\n20 回振った時点でタイプAである確率= 0.7834\n40 回振った時点でタイプAである確率= 0.4567\n60 回振った時点でタイプAである確率= 0.3253\n80 回振った時点でタイプAである確率= 0.2317\n100 回振った時点でタイプAである確率= 0.2017\n120 回振った時点でタイプAである確率= 0.2146\n140 回振った時点でタイプAである確率= 0.3408\n160 回振った時点でタイプAである確率= 0.5413\n180 回振った時点でタイプAである確率= 0.2582\n200 回振った時点でタイプAである確率= 0.2248\n"
    }
   ],
   "source": [
    "# 事前確率の値が悪い場合のベイズ更新\n",
    "import random\n",
    "numRolls = 200\n",
    "postA = priorA\n",
    "for i in range(numRolls+1):\n",
    "    if i%(numRolls//10) == 0:\n",
    "        print(i,'回振った時点でタイプAである確率=',round(postA,4))\n",
    "    isSix = random.random() <= 1/7 # サイコロはタイプCである: Booleanで格納\n",
    "    if isSix:\n",
    "        postA = calcBayes(postA, prob6ifA, prob6)\n",
    "    else:\n",
    "        postA = calcBayes(postA, 1-prob6ifA, 1-prob6)"
   ]
  },
  {
   "cell_type": "markdown",
   "metadata": {},
   "source": [
    "- 良い見方：事前確率に誤りがあっても、更新回数が増加するに従い事後確率が真の確率に収束する\n",
    "- 注意点としては、収束は単調増加もしくは単調減少ではないこと。タイプAであるっぽいという目をサイコロが出していること\n",
    "- 良い事後確率から開始した方がよいし、収束もはやい"
   ]
  },
  {
   "cell_type": "code",
   "execution_count": 15,
   "metadata": {},
   "outputs": [
    {
     "output_type": "stream",
     "name": "stdout",
     "text": "0 回振った時点でタイプAである確率= 0.3333\n20 回振った時点でタイプAである確率= 0.2374\n40 回振った時点でタイプAである確率= 0.1691\n60 回振った時点でタイプAである確率= 0.1205\n80 回振った時点でタイプAである確率= 0.1049\n100 回振った時点でタイプAである確率= 0.0611\n120 回振った時点でタイプAである確率= 0.0436\n140 回振った時点でタイプAである確率= 0.031\n160 回振った時点でタイプAである確率= 0.027\n180 回振った時点でタイプAである確率= 0.0157\n200 回振った時点でタイプAである確率= 0.0167\n"
    }
   ],
   "source": [
    "# 事前確率の値が悪い場合のベイズ更新\n",
    "import random\n",
    "priorA = 1/3 \n",
    "numRolls = 200\n",
    "postA = priorA\n",
    "for i in range(numRolls+1):\n",
    "    if i%(numRolls//10) == 0:\n",
    "        print(i,'回振った時点でタイプAである確率=',round(postA,4))\n",
    "    isSix = random.random() <= 1/7 # サイコロはタイプCである: Booleanで格納\n",
    "    if isSix:\n",
    "        postA = calcBayes(postA, prob6ifA, prob6)\n",
    "    else:\n",
    "        postA = calcBayes(postA, 1-prob6ifA, 1-prob6)"
   ]
  },
  {
   "cell_type": "code",
   "execution_count": null,
   "metadata": {},
   "outputs": [],
   "source": []
  }
 ],
 "metadata": {
  "language_info": {
   "codemirror_mode": {
    "name": "ipython",
    "version": 3
   },
   "file_extension": ".py",
   "mimetype": "text/x-python",
   "name": "python",
   "nbconvert_exporter": "python",
   "pygments_lexer": "ipython3",
   "version": "3.7.4-final"
  },
  "orig_nbformat": 2,
  "kernelspec": {
   "name": "python37464bitbasecondaa456a6740d7e490db9ca4374186e9e5a",
   "display_name": "Python 3.7.4 64-bit ('base': conda)"
  }
 },
 "nbformat": 4,
 "nbformat_minor": 2
}