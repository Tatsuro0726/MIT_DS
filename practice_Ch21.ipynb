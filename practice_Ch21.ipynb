{
 "cells": [
  {
   "cell_type": "code",
   "execution_count": null,
   "metadata": {},
   "outputs": [],
   "source": [
    "# 21.1 住宅価格のプロット\n",
    "def plotHousing(impression):\n",
    "    \"\"\"impression 'flat', 'volatile', 'fair'\n",
    "    のいずれかの値をとる文字列と仮定する.\n",
    "    時間の経過に伴う住宅価格の棒グラフを生成する\"\"\"\n",
    "    f = open(\"midWestHousingPrices.txt\", 'r')\n",
    "    # ファイルの各行は、アメリカ合衆国中西部の4半期ごとの価格を表す\n",
    "    labels,prices = ([],[])\n",
    "    "
   ]
  }
 ],
 "metadata": {
  "language_info": {
   "codemirror_mode": {
    "name": "ipython",
    "version": 3
   },
   "file_extension": ".py",
   "mimetype": "text/x-python",
   "name": "python",
   "nbconvert_exporter": "python",
   "pygments_lexer": "ipython3",
   "version": 3
  },
  "orig_nbformat": 2
 },
 "nbformat": 4,
 "nbformat_minor": 2
}