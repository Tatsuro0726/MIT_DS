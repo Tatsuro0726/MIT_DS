{
 "cells": [
  {
   "cell_type": "markdown",
   "metadata": {},
   "source": [
    "# Chapter24: 分類法\n",
    "- one-class learning: トレーニングデータは1つのクラスから抽出した標本の集合。そのクラスに属するか否かで分類。異常検知器とか。\n",
    "- two-class learning: binary classificationとも呼ばれる。陰性と陽性を分類する境界を見つけることが目的。\n",
    "- multi-class learning: 3つ以上のクラスを互いに分類するためにの境界を見つけること。\n",
    "## 24.1: 分類の評価\n"
   ]
  },
  {
   "cell_type": "code",
   "execution_count": null,
   "metadata": {},
   "outputs": [],
   "source": []
  }
 ],
 "metadata": {
  "language_info": {
   "codemirror_mode": {
    "name": "ipython",
    "version": 3
   },
   "file_extension": ".py",
   "mimetype": "text/x-python",
   "name": "python",
   "nbconvert_exporter": "python",
   "pygments_lexer": "ipython3",
   "version": 3
  },
  "orig_nbformat": 2
 },
 "nbformat": 4,
 "nbformat_minor": 2
}