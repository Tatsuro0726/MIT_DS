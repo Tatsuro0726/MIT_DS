{
 "cells": [
  {
   "cell_type": "markdown",
   "metadata": {},
   "source": [
    "# Chapter24: 分類法\n",
    "- one-class learning: トレーニングデータは1つのクラスから抽出した標本の集合。そのクラスに属するか否かで分類。異常検知器とか。\n",
    "- two-class learning: binary classificationとも呼ばれる。陰性と陽性を分類する境界を見つけることが目的。\n",
    "- multi-class learning: 3つ以上のクラスを互いに分類するためにの境界を見つけること。\n",
    "## 24.1: 分類の評価\n"
   ]
  },
  {
   "cell_type": "code",
   "execution_count": 1,
   "metadata": {},
   "outputs": [],
   "source": [
    "# code 24.1 分類器評価のための関数\n",
    "def accuracy(truePos, falsePos, trueNeg, falseNeg):\n",
    "    numerator = truePos + trueNeg # 真陽性 ＋ 真陰性\n",
    "    denominator = truePos + trueNeg + falsePos + falseNeg # 真陽性 + 真陰性 + 偽陽性 + 偽陰性\n",
    "    return numerator/denominator # 真陽性 ＋ 真陰性 /(全データ)\n",
    "\n",
    "def sensitivity(truePos, falseNeg):\n",
    "    try:\n",
    "        return truePos/(truePos + falseNeg)\n",
    "    except ZeroDivisionError:\n",
    "        return float('nan')\n",
    "\n",
    "def specificity(trueNeg, falsePos):\n",
    "    try:\n",
    "        return trueNeg/(trueNeg+falsePos)\n",
    "    except ZeroDivisionError:\n",
    "        return float('nan')\n",
    "\n",
    "def posPredVal(truePos, falsePos):\n",
    "    try:\n",
    "        return truePos(truePos + falsePos)\n",
    "    except ZeroDivisionError:\n",
    "        return float('nan')\n",
    "\n",
    "def negPredVal(trueNeg, falseNeg):\n",
    "    try:\n",
    "        return trueNeg/(trueNeg + falseNeg)\n",
    "    except ZeroDivisionError:\n",
    "        return float('nan')\n",
    "\n",
    "def getStats(truePos, falsePos, trueNeg, falseNeg, toPrint=True):\n",
    "    accur = accuracy(truePos, falsePos, trueNeg, falseNeg)\n",
    "    sens = sensitivity(truePos, falseNeg)\n",
    "    spec = specificity(trueNeg, falsePos)\n",
    "    ppv = posPredVal(truePos, falsePos)\n",
    "    if toPrint:\n",
    "        print('Accuracy =', round(accur,3))\n",
    "        print('sensitivity =',round(sens,3))\n",
    "        print('specificity =', round(spec,3))\n",
    "        print('pos. Pred. Val. =',round(ppv,3))\n",
    "    return (accur,sens,spec,ppv)"
   ]
  },
  {
   "cell_type": "markdown",
   "metadata": {},
   "source": [
    "## 24.2 ランナーの性別予想"
   ]
  },
  {
   "cell_type": "code",
   "execution_count": 2,
   "metadata": {},
   "outputs": [],
   "source": [
    "# 17.2\n",
    "def getBMData(filename):\n",
    "    \"\"\"与えられたファイルの内容を読み込む、\n",
    "       ファイルは次の6要素がカンマで区切られた形式\n",
    "       0. 氏名(string), 1. 性別(string), 2. 年齢(int), 3. 区分(走/車いす),4. 出身国(string),5. 総合タイム(float)\n",
    "       返り値: それぞれが6変数のリストのdict(辞書)\"\"\"\n",
    "    data = {}\n",
    "    f = open(filename)\n",
    "    line = f.readline()\n",
    "    data['name'],data['gender'],data['age'] = [],[],[] # 辞書要素をリストで初期化\n",
    "    data['division'],data['country'],data['time'] = [],[],[]\n",
    "    while line != '': # 最終行まで読み込む\n",
    "        split = line.split(',') # カンマで区切りリストで返す\n",
    "        data['name'].append(split[0])\n",
    "        data['gender'].append(split[1])\n",
    "        data['age'].append(split[2])\n",
    "        data['division'].append(split[3])\n",
    "        data['country'].append(split[4])\n",
    "        data['time'].append(float(split[5][:-1])) # 改行\\nを取り除く\n",
    "        line = f.readline()\n",
    "    f.close()\n",
    "    return data"
   ]
  },
  {
   "cell_type": "code",
   "execution_count": 3,
   "metadata": {},
   "outputs": [],
   "source": [
    "# 24.2 標本作成とトレーニングデータ、テストデータへの分割\n",
    "class Runner(object):\n",
    "    def __init__(self, gender, age, time):\n",
    "        self.featureVec = (age,time)\n",
    "        self.label = gender\n",
    "    \n",
    "    def featureDist(self, other):\n",
    "        dist = 0.0\n",
    "        for i in range(len(self.featureVec)):\n",
    "            dist += abs(self.featureVec[i] - other.featureVec[i])**2\n",
    "        return dist**0.5\n",
    "    \n",
    "    def getTime(self):\n",
    "        return self.featureVec[1]\n",
    "    \n",
    "    def getAge(self):\n",
    "        return self.featureVec[0]\n",
    "    \n",
    "    def getLabel(self):\n",
    "        return self.label\n",
    "    \n",
    "    def getFeatures(self):\n",
    "        return self.featureVec\n",
    "    \n",
    "    def __str__(self):\n",
    "        return str(self.getAge()) + ', ' + str(self.getTime()) + ', ' + self.label\n",
    "    \n",
    "def buildMarathonExamples(fileName):\n",
    "    data = getBMData(fileName)\n",
    "    examples = []\n",
    "    for i in range(len(data['age'])):\n",
    "        a = runner(data['gender'][i], data['age'][i], data['time'][i])\n",
    "        examples.append(a)\n",
    "    return examples\n",
    "\n",
    "import random\n",
    "def divide80_20(examples):\n",
    "    sampleIndices = random.sample(range(len(examples)), len(examples)//5) # (80, 20)\n",
    "    trainingSet, testSet = [],[]\n",
    "    for i in range(len(examples)):\n",
    "        if i in sampleIndices:\n",
    "            testSet.append(examples[i])\n",
    "        else:\n",
    "            trainingSet.append(examples[i])\n",
    "    return trainingSet, testSet"
   ]
  },
  {
   "cell_type": "markdown",
   "metadata": {},
   "source": [
    "- トレーニングデータ全体の58%のランナーが男性。\n",
    "- すべてのランナーを男性と予想すれば58％のaccuracyを期待できる⇒基準線として意識する"
   ]
  },
  {
   "cell_type": "code",
   "execution_count": null,
   "metadata": {},
   "outputs": [],
   "source": [
    "def findKNearest(example, exampleSet, k):\n",
    "    kNearest, distances = [],[]\n",
    "    # 最初のk個の標本からなるリストと、それらのexampleの距離のリストを作る"
   ]
  }
 ],
 "metadata": {
  "language_info": {
   "codemirror_mode": {
    "name": "ipython",
    "version": 3
   },
   "file_extension": ".py",
   "mimetype": "text/x-python",
   "name": "python",
   "nbconvert_exporter": "python",
   "pygments_lexer": "ipython3",
   "version": "3.7.4-final"
  },
  "orig_nbformat": 2,
  "kernelspec": {
   "name": "python37464bitbasecondaa456a6740d7e490db9ca4374186e9e5a",
   "display_name": "Python 3.7.4 64-bit ('base': conda)"
  }
 },
 "nbformat": 4,
 "nbformat_minor": 2
}